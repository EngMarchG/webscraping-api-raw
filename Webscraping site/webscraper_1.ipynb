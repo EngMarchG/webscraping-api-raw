{
 "cells": [
  {
   "cell_type": "markdown",
   "id": "5eb242d0",
   "metadata": {},
   "source": [
    "### Step 1 - imports"
   ]
  },
  {
   "cell_type": "code",
   "execution_count": 1,
   "id": "a205fed2",
   "metadata": {},
   "outputs": [],
   "source": [
    "import requests\n",
    "import pandas as pd"
   ]
  },
  {
   "cell_type": "markdown",
   "id": "28fee220",
   "metadata": {},
   "source": [
    "### Step 2 - Requests and CURL\n",
    "\n"
   ]
  },
  {
   "cell_type": "code",
   "execution_count": 2,
   "id": "bc7fbd2d",
   "metadata": {},
   "outputs": [],
   "source": [
    "headers = {\n",
    "    'authority': 'www.ebooks.com',\n",
    "    'sec-ch-ua': '\" Not A;Brand\";v=\"99\", \"Chromium\";v=\"96\", \"Microsoft Edge\";v=\"96\"',\n",
    "    'sec-ch-ua-mobile': '?0',\n",
    "    'user-agent': 'Mozilla/5.0 (Windows NT 10.0; Win64; x64) AppleWebKit/537.36 (KHTML, like Gecko) Chrome/96.0.4664.110 Safari/537.36 Edg/96.0.1054.62',\n",
    "    'sec-ch-ua-platform': '\"Windows\"',\n",
    "    'content-type': 'application/json',\n",
    "    'accept': '*/*',\n",
    "    'sec-fetch-site': 'same-origin',\n",
    "    'sec-fetch-mode': 'cors',\n",
    "    'sec-fetch-dest': 'empty',\n",
    "    'referer': 'https://www.ebooks.com/en-de/subjects/computers/',\n",
    "    'accept-language': 'en-US,en;q=0.9',\n",
    "    'cookie': '__cflb=02DiuEnpWqjzEfhLpxZQz37qrxw1gPiwMsfJRFvJRZD9e; .AspNetCore.Antiforgery.38q_OEQ-mXA=CfDJ8FDALqiRjFdMqn175u37slNXIM26rN0u_jDfYIyNkz9kvyu4_IFgwvXG0-msvQ8T06jRj6-f_XkCkEwG0oL21PFV2Q1u74eTcP5bRZiQAYDbSDUisQxb_CxpYfsbsN5v9PLUixHFExab-WLom4zZTfY; CountryCode=DE',\n",
    "}\n",
    "\n",
    "params = (\n",
    "    ('subjectId', '13'),\n",
    "    ('countryCode', 'DE'),\n",
    ")\n",
    "\n",
    "response = requests.get('https://www.ebooks.com/api/subject/slider', headers=headers, params=params)\n",
    "\n",
    "#NB. Original query string below. It seems impossible to parse and\n",
    "#reproduce query strings 100% accurately so the one below is given\n",
    "#in case the reproduced version is not \"correct\".\n",
    "# response = requests.get('https://www.ebooks.com/api/subject/slider?subjectId=13&countryCode=DE', headers=headers)"
   ]
  },
  {
   "cell_type": "markdown",
   "id": "45732ecf",
   "metadata": {},
   "source": [
    "### Step 3 - Check Status Code"
   ]
  },
  {
   "cell_type": "code",
   "execution_count": 3,
   "id": "9f635c70",
   "metadata": {},
   "outputs": [
    {
     "data": {
      "text/plain": [
       "<Response [200]>"
      ]
     },
     "execution_count": 3,
     "metadata": {},
     "output_type": "execute_result"
    }
   ],
   "source": [
    "response"
   ]
  },
  {
   "cell_type": "markdown",
   "id": "c67da8d1",
   "metadata": {},
   "source": [
    "### Step 4 - Create Json Object"
   ]
  },
  {
   "cell_type": "code",
   "execution_count": 4,
   "id": "0513658b",
   "metadata": {},
   "outputs": [
    {
     "data": {
      "text/plain": [
       "{'tabs': [{'name': 'Featured Titles',\n",
       "   'web_name': 'featuredtitles',\n",
       "   'books': [{'title': 'SharePoint For Dummies',\n",
       "     'book_detail_url': '/en-de/book/210415736/sharepoint-for-dummies/rosemarie-withee/',\n",
       "     'author': 'Rosemarie Withee',\n",
       "     'author_url': '/en-de/author/rosemarie-withee/999918/',\n",
       "     'cover_image_medium': 'https://image.ebooks.com/previews/210/210415/210415736/210415736-sml-1.jpg',\n",
       "     'alt_thumbnail_tag': 'SharePoint For Dummies',\n",
       "     'price': '6,31 €'},\n",
       "    {'title': 'Head First Swift',\n",
       "     'book_detail_url': '/en-de/book/210435879/head-first-swift/paris-buttfield-addison/',\n",
       "     'author': 'Paris Buttfield-Addison',\n",
       "     'author_url': '/en-de/author/paris-buttfield-addison/303646/',\n",
       "     'cover_image_medium': 'https://image.ebooks.com/previews/210/210435/210435879/210435879-sml-1.jpg',\n",
       "     'alt_thumbnail_tag': 'Head First Swift',\n",
       "     'price': '17,62 €'},\n",
       "    {'title': 'Digital Signal Processing',\n",
       "     'book_detail_url': '/en-de/book/210183200/digital-signal-processing/thomas-holton/',\n",
       "     'author': 'Thomas Holton',\n",
       "     'author_url': '/en-de/author/thomas-holton/1157933/',\n",
       "     'cover_image_medium': 'https://image.ebooks.com/previews/210/210183/210183200/210183200-sml-1.jpg',\n",
       "     'alt_thumbnail_tag': 'Digital Signal Processing: Principles and Applications',\n",
       "     'price': '92,62 €'},\n",
       "    {'title': 'OCP Oracle Certified Professional Java SE 11 Developer Complete Study Guide',\n",
       "     'book_detail_url': '/en-de/book/210087991/ocp-oracle-certified-professional-java-se-11-developer-complete-study-guide/jeanne-boyarsky/',\n",
       "     'author': 'Jeanne Boyarsky',\n",
       "     'author_url': '/en-de/author/jeanne-boyarsky/857485/',\n",
       "     'cover_image_medium': 'https://image.ebooks.com/previews/210/210087/210087991/210087991-sml-1.jpg',\n",
       "     'alt_thumbnail_tag': 'OCP Oracle Certified Professional Java SE 11 Developer Complete Study Guide: Exam 1Z0-815, Exam 1Z0-816, and Exam 1Z0-817',\n",
       "     'price': '51,99 €'},\n",
       "    {'title': 'Microsoft Excel 2019 Data Analysis and Business Modeling',\n",
       "     'book_detail_url': '/en-de/book/209653532/microsoft-excel-2019-data-analysis-and-business-modeling/wayne-winston/',\n",
       "     'author': 'Wayne Winston',\n",
       "     'author_url': '/en-de/author/wayne-winston/378197/',\n",
       "     'cover_image_medium': 'https://image.ebooks.com/previews/209/209653/209653532/209653532-sml-1.jpg',\n",
       "     'alt_thumbnail_tag': 'Microsoft Excel 2019 Data Analysis and Business Modeling',\n",
       "     'price': '37,51 €'},\n",
       "    {'title': 'Building Micro-Frontends',\n",
       "     'book_detail_url': '/en-de/book/210416737/building-micro-frontends/luca-mezzalira/',\n",
       "     'author': 'Luca Mezzalira',\n",
       "     'author_url': '/en-de/author/luca-mezzalira/94223717/',\n",
       "     'cover_image_medium': 'https://image.ebooks.com/previews/210/210416/210416737/210416737-sml-1.jpg',\n",
       "     'alt_thumbnail_tag': 'Building Micro-Frontends',\n",
       "     'price': '17,62 €'},\n",
       "    {'title': 'AWS Certified Solutions Architect Study Guide',\n",
       "     'book_detail_url': '/en-de/book/210174385/aws-certified-solutions-architect-study-guide/ben-piper/',\n",
       "     'author': 'Ben Piper',\n",
       "     'author_url': '/en-de/author/ben-piper/208217038/',\n",
       "     'cover_image_medium': 'https://image.ebooks.com/previews/210/210174/210174385/210174385-sml-1.jpg',\n",
       "     'alt_thumbnail_tag': 'AWS Certified Solutions Architect Study Guide: Associate SAA-C02 Exam',\n",
       "     'price': '38,99 €'},\n",
       "    {'title': 'Logic Pro X For Dummies',\n",
       "     'book_detail_url': '/en-de/book/95957433/logic-pro-x-for-dummies/graham-english/',\n",
       "     'author': 'Graham English',\n",
       "     'author_url': '/en-de/author/graham-english/803776/',\n",
       "     'cover_image_medium': 'https://image.ebooks.com/previews/095/095957/095957433/095957433-sml-1.jpg',\n",
       "     'alt_thumbnail_tag': 'Logic Pro X For Dummies',\n",
       "     'price': '6,31 €'},\n",
       "    {'title': 'Fundamentals of Software Architecture',\n",
       "     'book_detail_url': '/en-de/book/209933784/fundamentals-of-software-architecture/mark-richards/',\n",
       "     'author': 'Mark Richards',\n",
       "     'author_url': '/en-de/author/mark-richards/183013/',\n",
       "     'cover_image_medium': 'https://image.ebooks.com/previews/209/209933/209933784/209933784-sml-1.jpg',\n",
       "     'alt_thumbnail_tag': 'Fundamentals of Software Architecture: An Engineering Approach',\n",
       "     'price': '24,57 €'},\n",
       "    {'title': 'HTML and CSS',\n",
       "     'book_detail_url': '/en-de/book/817871/html-and-css/jon-duckett/',\n",
       "     'author': 'Jon Duckett',\n",
       "     'author_url': '/en-de/author/jon-duckett/50444/',\n",
       "     'cover_image_medium': 'https://image.ebooks.com/previews/000/000817/000817871/000817871-sml-1.jpg',\n",
       "     'alt_thumbnail_tag': 'HTML and CSS: Design and Build Websites',\n",
       "     'price': '10,08 €'},\n",
       "    {'title': 'Professional Microsoft SQL Server 2016 Reporting Services and Mobile Reports',\n",
       "     'book_detail_url': '/en-de/book/2523428/professional-microsoft-sql-server-2016-reporting-services-and-mobile-reports/paul-turley/',\n",
       "     'author': 'Paul Turley',\n",
       "     'author_url': '/en-de/author/paul-turley/63977/',\n",
       "     'cover_image_medium': 'https://image.ebooks.com/previews/002/002523/002523428/002523428-sml-1.jpg',\n",
       "     'alt_thumbnail_tag': 'Professional Microsoft SQL Server 2016 Reporting Services and Mobile Reports',\n",
       "     'price': '35,99 €'}],\n",
       "   'selected': True},\n",
       "  {'name': 'Bestsellers',\n",
       "   'web_name': 'bestsellers',\n",
       "   'books': [{'title': 'Designing Data-Intensive Applications',\n",
       "     'book_detail_url': '/en-de/book/95729334/designing-data-intensive-applications/martin-kleppmann/',\n",
       "     'author': 'Martin Kleppmann',\n",
       "     'author_url': '/en-de/author/martin-kleppmann/1321307/',\n",
       "     'cover_image_medium': 'https://image.ebooks.com/previews/095/095729/095729334/095729334-sml-1.jpg',\n",
       "     'alt_thumbnail_tag': 'Designing Data-Intensive Applications: The Big Ideas Behind Reliable, Scalable, and Maintainable Systems',\n",
       "     'price': '14,07 €'},\n",
       "    {'title': 'Programming Rust',\n",
       "     'book_detail_url': '/en-de/book/210313783/programming-rust/jim-blandy/',\n",
       "     'author': 'Jim Blandy',\n",
       "     'author_url': '/en-de/author/jim-blandy/94214791/',\n",
       "     'cover_image_medium': 'https://image.ebooks.com/previews/210/210313/210313783/210313783-sml-1.jpg',\n",
       "     'alt_thumbnail_tag': 'Programming Rust',\n",
       "     'price': '21,01 €'},\n",
       "    {'title': 'Python for Data Analysis',\n",
       "     'book_detail_url': '/en-de/book/95871448/python-for-data-analysis/wes-mckinney/',\n",
       "     'author': 'Wes McKinney',\n",
       "     'author_url': '/en-de/author/wes-mckinney/513179/',\n",
       "     'cover_image_medium': 'https://image.ebooks.com/previews/095/095871/095871448/095871448-sml-1.jpg',\n",
       "     'alt_thumbnail_tag': 'Python for Data Analysis: Data Wrangling with Pandas, NumPy, and IPython',\n",
       "     'price': '17,62 €'},\n",
       "    {'title': 'HTML and CSS',\n",
       "     'book_detail_url': '/en-de/book/817871/html-and-css/jon-duckett/',\n",
       "     'author': 'Jon Duckett',\n",
       "     'author_url': '/en-de/author/jon-duckett/50444/',\n",
       "     'cover_image_medium': 'https://image.ebooks.com/previews/000/000817/000817871/000817871-sml-1.jpg',\n",
       "     'alt_thumbnail_tag': 'HTML and CSS: Design and Build Websites',\n",
       "     'price': '10,08 €'},\n",
       "    {'title': 'Effective TypeScript',\n",
       "     'book_detail_url': '/en-de/book/209820951/effective-typescript/dan-vanderkam/',\n",
       "     'author': 'Dan Vanderkam',\n",
       "     'author_url': '/en-de/author/dan-vanderkam/208299957/',\n",
       "     'cover_image_medium': 'https://image.ebooks.com/previews/209/209820/209820951/209820951-sml-1.jpg',\n",
       "     'alt_thumbnail_tag': 'Effective TypeScript: 62 Specific Ways to Improve Your TypeScript',\n",
       "     'price': '14,07 €'},\n",
       "    {'title': 'Fundamentals of Software Architecture',\n",
       "     'book_detail_url': '/en-de/book/209933784/fundamentals-of-software-architecture/mark-richards/',\n",
       "     'author': 'Mark Richards',\n",
       "     'author_url': '/en-de/author/mark-richards/183013/',\n",
       "     'cover_image_medium': 'https://image.ebooks.com/previews/209/209933/209933784/209933784-sml-1.jpg',\n",
       "     'alt_thumbnail_tag': 'Fundamentals of Software Architecture: An Engineering Approach',\n",
       "     'price': '24,57 €'},\n",
       "    {'title': 'The Technology Trap',\n",
       "     'book_detail_url': '/en-de/book/209558907/the-technology-trap/carl-benedikt-frey/',\n",
       "     'author': 'Carl Benedikt Frey',\n",
       "     'author_url': '/en-de/author/carl-benedikt-frey/603254/',\n",
       "     'cover_image_medium': 'https://image.ebooks.com/previews/209/209558/209558907/209558907-sml-1.jpg',\n",
       "     'alt_thumbnail_tag': 'The Technology Trap: Capital, Labor, and Power in the Age of Automation',\n",
       "     'price': '28,88 €'},\n",
       "    {'title': 'Building Microservices',\n",
       "     'book_detail_url': '/en-de/book/210338899/building-microservices/sam-newman/',\n",
       "     'author': 'Sam Newman',\n",
       "     'author_url': '/en-de/author/sam-newman/748359/',\n",
       "     'cover_image_medium': 'https://image.ebooks.com/previews/210/210338/210338899/210338899-sml-1.jpg',\n",
       "     'alt_thumbnail_tag': 'Building Microservices',\n",
       "     'price': '21,01 €'},\n",
       "    {'title': 'Trustworthy Online Controlled Experiments',\n",
       "     'book_detail_url': '/en-de/book/209931477/trustworthy-online-controlled-experiments/ron-kohavi/',\n",
       "     'author': 'Ron Kohavi',\n",
       "     'author_url': '/en-de/author/ron-kohavi/1198587/',\n",
       "     'cover_image_medium': 'https://image.ebooks.com/previews/209/209931/209931477/209931477-sml-1.jpg',\n",
       "     'alt_thumbnail_tag': 'Trustworthy Online Controlled Experiments: A Practical Guide to A/B Testing',\n",
       "     'price': '25,01 €'},\n",
       "    {'title': 'Software Architecture: The Hard Parts',\n",
       "     'book_detail_url': '/en-de/book/210380834/software-architecture-the-hard-parts/neal-ford/',\n",
       "     'author': 'Neal Ford',\n",
       "     'author_url': '/en-de/author/neal-ford/182946/',\n",
       "     'cover_image_medium': 'https://image.ebooks.com/previews/210/210380/210380834/210380834-sml-1.jpg',\n",
       "     'alt_thumbnail_tag': 'Software Architecture: The Hard Parts',\n",
       "     'price': '24,57 €'}],\n",
       "   'selected': False},\n",
       "  {'name': 'Upcoming Titles',\n",
       "   'web_name': 'upcoming',\n",
       "   'books': [{'title': 'CompTIA Network+ Certification All-in-One Exam Guide, Eighth Edition (Exam N10-008)',\n",
       "     'book_detail_url': '/en-de/book/210456114/comptia-network-certification-all-in-one-exam-guide-eighth-edition-exam-n10-008/mike-meyers/',\n",
       "     'author': 'Mike Meyers',\n",
       "     'author_url': '/en-de/author/mike-meyers/92639/',\n",
       "     'cover_image_medium': 'https://image.ebooks.com/previews/210/210456/210456114/210456114-sml-1.jpg',\n",
       "     'alt_thumbnail_tag': 'CompTIA Network+ Certification All-in-One Exam Guide, Eighth Edition (Exam N10-008)',\n",
       "     'price': '56,28 €'},\n",
       "    {'title': 'CEH Certified Ethical Hacker Cert Guide',\n",
       "     'book_detail_url': '/en-de/book/210417068/ceh-certified-ethical-hacker-cert-guide/michael-gregg/',\n",
       "     'author': 'Michael Gregg',\n",
       "     'author_url': '/en-de/author/michael-gregg/65305/',\n",
       "     'cover_image_medium': 'https://image.ebooks.com/previews/210/210417/210417068/210417068-sml-1.jpg',\n",
       "     'alt_thumbnail_tag': 'CEH Certified Ethical Hacker Cert Guide',\n",
       "     'price': '33,76 €'},\n",
       "    {'title': 'The Ultimate Roblox Book: An Unofficial Guide, Updated Edition',\n",
       "     'book_detail_url': '/en-de/book/210324988/the-ultimate-roblox-book-an-unofficial-guide-updated-edition/david-jagneaux/',\n",
       "     'author': 'David Jagneaux',\n",
       "     'author_url': '/en-de/author/david-jagneaux/94175215/',\n",
       "     'cover_image_medium': 'https://image.ebooks.com/previews/210/210324/210324988/210324988-sml-1.jpg',\n",
       "     'alt_thumbnail_tag': 'The Ultimate Roblox Book: An Unofficial Guide, Updated Edition: Learn How to Build Your Own Worlds, Customize Your Games, and So Much More!',\n",
       "     'price': '9,77 €'}],\n",
       "   'selected': False}]}"
      ]
     },
     "execution_count": 4,
     "metadata": {},
     "output_type": "execute_result"
    }
   ],
   "source": [
    "response.json()"
   ]
  },
  {
   "cell_type": "markdown",
   "id": "b9ba8b27",
   "metadata": {},
   "source": [
    "### Step 5 - Output Keys"
   ]
  },
  {
   "cell_type": "code",
   "execution_count": 5,
   "id": "48ae3367",
   "metadata": {},
   "outputs": [
    {
     "data": {
      "text/plain": [
       "dict_keys(['tabs'])"
      ]
     },
     "execution_count": 5,
     "metadata": {},
     "output_type": "execute_result"
    }
   ],
   "source": [
    "response.json().keys()"
   ]
  },
  {
   "cell_type": "markdown",
   "id": "de2ba2ee",
   "metadata": {},
   "source": [
    "### Step 6 - Find your Data"
   ]
  },
  {
   "cell_type": "code",
   "execution_count": 56,
   "id": "cfa26f30",
   "metadata": {},
   "outputs": [],
   "source": [
    "i = 0 \n",
    "first_book = response.json()[\"tabs\"][1]['books']"
   ]
  },
  {
   "cell_type": "code",
   "execution_count": 59,
   "id": "42a9c4c5",
   "metadata": {},
   "outputs": [
    {
     "data": {
      "text/plain": [
       "'Programming Rust'"
      ]
     },
     "execution_count": 59,
     "metadata": {},
     "output_type": "execute_result"
    }
   ],
   "source": [
    "#Book title\n",
    "first_book[1]['title']"
   ]
  },
  {
   "cell_type": "code",
   "execution_count": 16,
   "id": "b084a8fd",
   "metadata": {},
   "outputs": [
    {
     "data": {
      "text/plain": [
       "'Designing Data-Intensive Applications: The Big Ideas Behind Reliable, Scalable, and Maintainable Systems'"
      ]
     },
     "execution_count": 16,
     "metadata": {},
     "output_type": "execute_result"
    }
   ],
   "source": [
    "#Book subtitle\n",
    "first_book['alt_thumbnail_tag']"
   ]
  },
  {
   "cell_type": "code",
   "execution_count": 17,
   "id": "c6cd2a5b",
   "metadata": {},
   "outputs": [
    {
     "data": {
      "text/plain": [
       "'Martin Kleppmann'"
      ]
     },
     "execution_count": 17,
     "metadata": {},
     "output_type": "execute_result"
    }
   ],
   "source": [
    "#Book author\n",
    "first_book['author']"
   ]
  },
  {
   "cell_type": "code",
   "execution_count": 18,
   "id": "4aba2895",
   "metadata": {},
   "outputs": [
    {
     "data": {
      "text/plain": [
       "'14,07 €'"
      ]
     },
     "execution_count": 18,
     "metadata": {},
     "output_type": "execute_result"
    }
   ],
   "source": [
    "#Price of book\n",
    "first_book['price']"
   ]
  },
  {
   "cell_type": "code",
   "execution_count": 19,
   "id": "0c5e1950",
   "metadata": {},
   "outputs": [
    {
     "data": {
      "text/plain": [
       "'/en-de/author/martin-kleppmann/1321307/'"
      ]
     },
     "execution_count": 19,
     "metadata": {},
     "output_type": "execute_result"
    }
   ],
   "source": [
    "first_book['author_url']"
   ]
  },
  {
   "cell_type": "markdown",
   "id": "61ea2c53",
   "metadata": {},
   "source": [
    "# Step 7 - Put everything together in a loop\n"
   ]
  },
  {
   "cell_type": "code",
   "execution_count": 87,
   "id": "797db325",
   "metadata": {},
   "outputs": [],
   "source": [
    "title = []\n",
    "subtitle = []\n",
    "author = []\n",
    "price = []\n",
    "author_url = []"
   ]
  },
  {
   "cell_type": "code",
   "execution_count": 88,
   "id": "d0890c9c",
   "metadata": {},
   "outputs": [
    {
     "name": "stdout",
     "output_type": "stream",
     "text": [
      "['Designing Data-Intensive Applications', 'Programming Rust', 'Python for Data Analysis', 'HTML and CSS', 'Effective TypeScript', 'Fundamentals of Software Architecture', 'The Technology Trap', 'Building Microservices', 'Trustworthy Online Controlled Experiments', 'Software Architecture: The Hard Parts']\n"
     ]
    }
   ],
   "source": [
    "i = 0\n",
    "while i < 10:\n",
    "    title.append(first_book[i][\"title\"])\n",
    "    subtitle.append(first_book[i][\"alt_thumbnail_tag\"])\n",
    "    author.append(first_book[i][\"author\"])\n",
    "    price.append(first_book[i][\"price\"])\n",
    "    author_url.append(\"https://www.ebooks.com\" + first_book[i][\"author_url\"])\n",
    "    i += 1\n",
    "print(title)"
   ]
  },
  {
   "cell_type": "code",
   "execution_count": 89,
   "id": "faf5ea15",
   "metadata": {},
   "outputs": [
    {
     "name": "stdout",
     "output_type": "stream",
     "text": [
      "['14,07 €', '21,01 €', '17,62 €', '10,08 €', '14,07 €', '24,57 €', '28,88 €', '21,01 €', '25,01 €', '24,57 €']\n"
     ]
    }
   ],
   "source": [
    "print(price)"
   ]
  },
  {
   "cell_type": "markdown",
   "id": "c6a29eb2",
   "metadata": {},
   "source": [
    "# Step 8 - Use pandas Dataframe\n"
   ]
  },
  {
   "cell_type": "code",
   "execution_count": 90,
   "id": "62be43ce",
   "metadata": {},
   "outputs": [],
   "source": [
    "books_df = pd.DataFrame({\"Title\":title, \"Subtitle\":subtitle, \"Author\":author, \"Price\":price, \"Site\":author_url})"
   ]
  },
  {
   "cell_type": "code",
   "execution_count": 92,
   "id": "bbb2e64b",
   "metadata": {},
   "outputs": [
    {
     "data": {
      "text/html": [
       "<div>\n",
       "<style scoped>\n",
       "    .dataframe tbody tr th:only-of-type {\n",
       "        vertical-align: middle;\n",
       "    }\n",
       "\n",
       "    .dataframe tbody tr th {\n",
       "        vertical-align: top;\n",
       "    }\n",
       "\n",
       "    .dataframe thead th {\n",
       "        text-align: right;\n",
       "    }\n",
       "</style>\n",
       "<table border=\"1\" class=\"dataframe\">\n",
       "  <thead>\n",
       "    <tr style=\"text-align: right;\">\n",
       "      <th></th>\n",
       "      <th>Title</th>\n",
       "      <th>Subtitle</th>\n",
       "      <th>Author</th>\n",
       "      <th>Price</th>\n",
       "      <th>Site</th>\n",
       "    </tr>\n",
       "  </thead>\n",
       "  <tbody>\n",
       "    <tr>\n",
       "      <th>0</th>\n",
       "      <td>Designing Data-Intensive Applications</td>\n",
       "      <td>Designing Data-Intensive Applications: The Big...</td>\n",
       "      <td>Martin Kleppmann</td>\n",
       "      <td>14,07 €</td>\n",
       "      <td>https://www.ebooks.com/en-de/author/martin-kle...</td>\n",
       "    </tr>\n",
       "    <tr>\n",
       "      <th>1</th>\n",
       "      <td>Programming Rust</td>\n",
       "      <td>Programming Rust</td>\n",
       "      <td>Jim Blandy</td>\n",
       "      <td>21,01 €</td>\n",
       "      <td>https://www.ebooks.com/en-de/author/jim-blandy...</td>\n",
       "    </tr>\n",
       "    <tr>\n",
       "      <th>2</th>\n",
       "      <td>Python for Data Analysis</td>\n",
       "      <td>Python for Data Analysis: Data Wrangling with ...</td>\n",
       "      <td>Wes McKinney</td>\n",
       "      <td>17,62 €</td>\n",
       "      <td>https://www.ebooks.com/en-de/author/wes-mckinn...</td>\n",
       "    </tr>\n",
       "    <tr>\n",
       "      <th>3</th>\n",
       "      <td>HTML and CSS</td>\n",
       "      <td>HTML and CSS: Design and Build Websites</td>\n",
       "      <td>Jon Duckett</td>\n",
       "      <td>10,08 €</td>\n",
       "      <td>https://www.ebooks.com/en-de/author/jon-ducket...</td>\n",
       "    </tr>\n",
       "    <tr>\n",
       "      <th>4</th>\n",
       "      <td>Effective TypeScript</td>\n",
       "      <td>Effective TypeScript: 62 Specific Ways to Impr...</td>\n",
       "      <td>Dan Vanderkam</td>\n",
       "      <td>14,07 €</td>\n",
       "      <td>https://www.ebooks.com/en-de/author/dan-vander...</td>\n",
       "    </tr>\n",
       "    <tr>\n",
       "      <th>5</th>\n",
       "      <td>Fundamentals of Software Architecture</td>\n",
       "      <td>Fundamentals of Software Architecture: An Engi...</td>\n",
       "      <td>Mark Richards</td>\n",
       "      <td>24,57 €</td>\n",
       "      <td>https://www.ebooks.com/en-de/author/mark-richa...</td>\n",
       "    </tr>\n",
       "    <tr>\n",
       "      <th>6</th>\n",
       "      <td>The Technology Trap</td>\n",
       "      <td>The Technology Trap: Capital, Labor, and Power...</td>\n",
       "      <td>Carl Benedikt Frey</td>\n",
       "      <td>28,88 €</td>\n",
       "      <td>https://www.ebooks.com/en-de/author/carl-bened...</td>\n",
       "    </tr>\n",
       "    <tr>\n",
       "      <th>7</th>\n",
       "      <td>Building Microservices</td>\n",
       "      <td>Building Microservices</td>\n",
       "      <td>Sam Newman</td>\n",
       "      <td>21,01 €</td>\n",
       "      <td>https://www.ebooks.com/en-de/author/sam-newman...</td>\n",
       "    </tr>\n",
       "    <tr>\n",
       "      <th>8</th>\n",
       "      <td>Trustworthy Online Controlled Experiments</td>\n",
       "      <td>Trustworthy Online Controlled Experiments: A P...</td>\n",
       "      <td>Ron Kohavi</td>\n",
       "      <td>25,01 €</td>\n",
       "      <td>https://www.ebooks.com/en-de/author/ron-kohavi...</td>\n",
       "    </tr>\n",
       "    <tr>\n",
       "      <th>9</th>\n",
       "      <td>Software Architecture: The Hard Parts</td>\n",
       "      <td>Software Architecture: The Hard Parts</td>\n",
       "      <td>Neal Ford</td>\n",
       "      <td>24,57 €</td>\n",
       "      <td>https://www.ebooks.com/en-de/author/neal-ford/...</td>\n",
       "    </tr>\n",
       "  </tbody>\n",
       "</table>\n",
       "</div>"
      ],
      "text/plain": [
       "                                       Title  \\\n",
       "0      Designing Data-Intensive Applications   \n",
       "1                           Programming Rust   \n",
       "2                   Python for Data Analysis   \n",
       "3                               HTML and CSS   \n",
       "4                       Effective TypeScript   \n",
       "5      Fundamentals of Software Architecture   \n",
       "6                        The Technology Trap   \n",
       "7                     Building Microservices   \n",
       "8  Trustworthy Online Controlled Experiments   \n",
       "9      Software Architecture: The Hard Parts   \n",
       "\n",
       "                                            Subtitle              Author  \\\n",
       "0  Designing Data-Intensive Applications: The Big...    Martin Kleppmann   \n",
       "1                                   Programming Rust          Jim Blandy   \n",
       "2  Python for Data Analysis: Data Wrangling with ...        Wes McKinney   \n",
       "3            HTML and CSS: Design and Build Websites         Jon Duckett   \n",
       "4  Effective TypeScript: 62 Specific Ways to Impr...       Dan Vanderkam   \n",
       "5  Fundamentals of Software Architecture: An Engi...       Mark Richards   \n",
       "6  The Technology Trap: Capital, Labor, and Power...  Carl Benedikt Frey   \n",
       "7                             Building Microservices          Sam Newman   \n",
       "8  Trustworthy Online Controlled Experiments: A P...          Ron Kohavi   \n",
       "9              Software Architecture: The Hard Parts           Neal Ford   \n",
       "\n",
       "     Price                                               Site  \n",
       "0  14,07 €  https://www.ebooks.com/en-de/author/martin-kle...  \n",
       "1  21,01 €  https://www.ebooks.com/en-de/author/jim-blandy...  \n",
       "2  17,62 €  https://www.ebooks.com/en-de/author/wes-mckinn...  \n",
       "3  10,08 €  https://www.ebooks.com/en-de/author/jon-ducket...  \n",
       "4  14,07 €  https://www.ebooks.com/en-de/author/dan-vander...  \n",
       "5  24,57 €  https://www.ebooks.com/en-de/author/mark-richa...  \n",
       "6  28,88 €  https://www.ebooks.com/en-de/author/carl-bened...  \n",
       "7  21,01 €  https://www.ebooks.com/en-de/author/sam-newman...  \n",
       "8  25,01 €  https://www.ebooks.com/en-de/author/ron-kohavi...  \n",
       "9  24,57 €  https://www.ebooks.com/en-de/author/neal-ford/...  "
      ]
     },
     "execution_count": 92,
     "metadata": {},
     "output_type": "execute_result"
    }
   ],
   "source": [
    "books_df"
   ]
  },
  {
   "cell_type": "code",
   "execution_count": 94,
   "id": "00d42060",
   "metadata": {
    "scrolled": true
   },
   "outputs": [],
   "source": [
    "books_df.to_excel(\"Scraped_books.xlsx\", index = False)"
   ]
  },
  {
   "cell_type": "code",
   "execution_count": null,
   "id": "33950045",
   "metadata": {},
   "outputs": [],
   "source": []
  }
 ],
 "metadata": {
  "kernelspec": {
   "display_name": "Python 3 (ipykernel)",
   "language": "python",
   "name": "python3"
  },
  "language_info": {
   "codemirror_mode": {
    "name": "ipython",
    "version": 3
   },
   "file_extension": ".py",
   "mimetype": "text/x-python",
   "name": "python",
   "nbconvert_exporter": "python",
   "pygments_lexer": "ipython3",
   "version": "3.8.2"
  }
 },
 "nbformat": 4,
 "nbformat_minor": 5
}
